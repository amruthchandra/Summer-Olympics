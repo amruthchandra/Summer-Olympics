{
  "nbformat": 4,
  "nbformat_minor": 0,
  "metadata": {
    "colab": {
      "name": "summer.ipynb",
      "provenance": []
    },
    "kernelspec": {
      "name": "python3",
      "display_name": "Python 3"
    },
    "language_info": {
      "name": "python"
    }
  },
  "cells": [
    {
      "cell_type": "markdown",
      "metadata": {
        "id": "iHzIDMtf5pY_"
      },
      "source": [
        "**1. In how many cities Summer Olympics is held so far?**"
      ]
    },
    {
      "cell_type": "code",
      "metadata": {
        "id": "PQcqcSLH5JgC"
      },
      "source": [
        "import pandas as pd"
      ],
      "execution_count": 7,
      "outputs": []
    },
    {
      "cell_type": "code",
      "metadata": {
        "id": "QXoEKfry5tSj"
      },
      "source": [
        "df = pd.read_csv(\"summer.csv\")"
      ],
      "execution_count": 8,
      "outputs": []
    },
    {
      "cell_type": "code",
      "metadata": {
        "id": "XAXHoM9E6cVa",
        "colab": {
          "base_uri": "https://localhost:8080/"
        },
        "outputId": "2b338db5-c777-4b1e-d11e-b9c027226d34"
      },
      "source": [
        "ans=[]\n",
        "for i in df['City'].unique():\n",
        "  ans.append([i,len(df[df['City']  == i])])\n",
        "\n",
        "TC= len(ans)\n",
        "city = pd.DataFrame(ans,columns = ['City','Freq'])\n",
        "print(\"Total number of cities are\",TC)"
      ],
      "execution_count": 10,
      "outputs": [
        {
          "output_type": "stream",
          "name": "stdout",
          "text": [
            "Total number of cities are 22\n"
          ]
        }
      ]
    },
    {
      "cell_type": "code",
      "metadata": {
        "colab": {
          "base_uri": "https://localhost:8080/"
        },
        "id": "QoRSr2HG7zNZ",
        "outputId": "4059ecf1-bfed-46a2-c9b6-8fac1bd453e0"
      },
      "source": [
        "ans"
      ],
      "execution_count": 11,
      "outputs": [
        {
          "output_type": "execute_result",
          "data": {
            "text/plain": [
              "[['Athens', 2149],\n",
              " ['Paris', 1396],\n",
              " ['St Louis', 470],\n",
              " ['London', 3567],\n",
              " ['Stockholm', 885],\n",
              " ['Antwerp', 1298],\n",
              " ['Amsterdam', 710],\n",
              " ['Los Angeles', 2074],\n",
              " ['Berlin', 875],\n",
              " ['Helsinki', 889],\n",
              " ['Melbourne / Stockholm', 885],\n",
              " ['Rome', 882],\n",
              " ['Tokyo', 1010],\n",
              " ['Mexico', 1031],\n",
              " ['Munich', 1185],\n",
              " ['Montreal', 1305],\n",
              " ['Moscow', 1387],\n",
              " ['Seoul', 1546],\n",
              " ['Barcelona', 1705],\n",
              " ['Atlanta', 1859],\n",
              " ['Sydney', 2015],\n",
              " ['Beijing', 2042]]"
            ]
          },
          "metadata": {},
          "execution_count": 11
        }
      ]
    },
    {
      "cell_type": "markdown",
      "metadata": {
        "id": "m3srR6n6-WxR"
      },
      "source": [
        "**2. Which sport is having most number of Gold Medals so far? (Top 5)**"
      ]
    },
    {
      "cell_type": "code",
      "metadata": {
        "id": "aZmhSkQ3-UaR",
        "colab": {
          "base_uri": "https://localhost:8080/"
        },
        "outputId": "5b94a89b-d030-453d-c8c1-af9fb3a631b7"
      },
      "source": [
        "df_gold_medals = df[df['Medal'] == 'Gold']['Sport']\n",
        "df_gold_medals"
      ],
      "execution_count": 15,
      "outputs": [
        {
          "output_type": "execute_result",
          "data": {
            "text/plain": [
              "0         Aquatics\n",
              "3         Aquatics\n",
              "6         Aquatics\n",
              "9         Aquatics\n",
              "13       Athletics\n",
              "           ...    \n",
              "31145    Wrestling\n",
              "31149    Wrestling\n",
              "31153    Wrestling\n",
              "31157    Wrestling\n",
              "31161    Wrestling\n",
              "Name: Sport, Length: 10486, dtype: object"
            ]
          },
          "metadata": {},
          "execution_count": 15
        }
      ]
    },
    {
      "cell_type": "code",
      "metadata": {
        "id": "MWVZwhYC-13A"
      },
      "source": [
        "gold_medals=[]\n",
        "for i in df_gold_medals.unique():\n",
        "  gold_medals.append([i,len(df[df['Sport']  == i])])\n",
        "\n",
        "\n",
        "df_gold_medals = pd.DataFrame(gold_medals,columns = ['Sport','No of Gold Medals'])"
      ],
      "execution_count": 16,
      "outputs": []
    },
    {
      "cell_type": "code",
      "metadata": {
        "colab": {
          "base_uri": "https://localhost:8080/",
          "height": 204
        },
        "id": "04qrowS2BH8o",
        "outputId": "ec2e696c-ddb9-4531-bebb-ef7cb1424866"
      },
      "source": [
        "df_gold_medals.sort_values(by = 'No of Gold Medals', ascending=False).head()"
      ],
      "execution_count": 17,
      "outputs": [
        {
          "output_type": "execute_result",
          "data": {
            "text/html": [
              "<div>\n",
              "<style scoped>\n",
              "    .dataframe tbody tr th:only-of-type {\n",
              "        vertical-align: middle;\n",
              "    }\n",
              "\n",
              "    .dataframe tbody tr th {\n",
              "        vertical-align: top;\n",
              "    }\n",
              "\n",
              "    .dataframe thead th {\n",
              "        text-align: right;\n",
              "    }\n",
              "</style>\n",
              "<table border=\"1\" class=\"dataframe\">\n",
              "  <thead>\n",
              "    <tr style=\"text-align: right;\">\n",
              "      <th></th>\n",
              "      <th>Sport</th>\n",
              "      <th>No of Gold Medals</th>\n",
              "    </tr>\n",
              "  </thead>\n",
              "  <tbody>\n",
              "    <tr>\n",
              "      <th>0</th>\n",
              "      <td>Aquatics</td>\n",
              "      <td>4170</td>\n",
              "    </tr>\n",
              "    <tr>\n",
              "      <th>1</th>\n",
              "      <td>Athletics</td>\n",
              "      <td>3638</td>\n",
              "    </tr>\n",
              "    <tr>\n",
              "      <th>17</th>\n",
              "      <td>Rowing</td>\n",
              "      <td>2667</td>\n",
              "    </tr>\n",
              "    <tr>\n",
              "      <th>4</th>\n",
              "      <td>Gymnastics</td>\n",
              "      <td>2307</td>\n",
              "    </tr>\n",
              "    <tr>\n",
              "      <th>3</th>\n",
              "      <td>Fencing</td>\n",
              "      <td>1613</td>\n",
              "    </tr>\n",
              "  </tbody>\n",
              "</table>\n",
              "</div>"
            ],
            "text/plain": [
              "         Sport  No of Gold Medals\n",
              "0     Aquatics               4170\n",
              "1    Athletics               3638\n",
              "17      Rowing               2667\n",
              "4   Gymnastics               2307\n",
              "3      Fencing               1613"
            ]
          },
          "metadata": {},
          "execution_count": 17
        }
      ]
    },
    {
      "cell_type": "code",
      "metadata": {
        "colab": {
          "base_uri": "https://localhost:8080/",
          "height": 400
        },
        "id": "r_SLoGgc_KTO",
        "outputId": "d0a8347b-5184-42e1-e89f-c4a9955930cb"
      },
      "source": [
        "df_gold_medals.sort_values(by = 'No of Gold Medals', ascending=False).head().plot(x='Sport' , y='No of Gold Medals', kind = 'bar', figsize = (10,5))"
      ],
      "execution_count": 21,
      "outputs": [
        {
          "output_type": "execute_result",
          "data": {
            "text/plain": [
              "<matplotlib.axes._subplots.AxesSubplot at 0x7fb0515b8550>"
            ]
          },
          "metadata": {},
          "execution_count": 21
        },
        {
          "output_type": "display_data",
          "data": {
            "image/png": "[encoded data removed]",
            "text/plain": [
              "<Figure size 720x360 with 1 Axes>"
            ]
          },
          "metadata": {
            "needs_background": "light"
          }
        }
      ]
    },
    {
      "cell_type": "markdown",
      "metadata": {
        "id": "hnJ7CaccBOjM"
      },
      "source": [
        "**3. Which sport is having most number of medals so far? (Top 5)**"
      ]
    },
    {
      "cell_type": "code",
      "metadata": {
        "id": "BGoj8K1yDurg"
      },
      "source": [
        "lf=df"
      ],
      "execution_count": 22,
      "outputs": []
    },
    {
      "cell_type": "code",
      "metadata": {
        "id": "6m3Woiu2FMEb"
      },
      "source": [
        "del lf['Year']\n",
        "del lf['City']\n",
        "del lf['Discipline']\n",
        "del lf['Athlete']\n",
        "del lf['Country']\n",
        "del lf['Gender']\n",
        "del lf['Event']"
      ],
      "execution_count": 23,
      "outputs": []
    },
    {
      "cell_type": "code",
      "metadata": {
        "id": "EptbG92mFMxQ"
      },
      "source": [
        "a = len(lf[lf['Medal'] == 'Gold'])\n",
        "b = len(lf[lf['Medal'] == 'Silver'])\n",
        "c = len(lf[lf['Medal'] == 'Bronze'])"
      ],
      "execution_count": 24,
      "outputs": []
    },
    {
      "cell_type": "code",
      "metadata": {
        "id": "7B1CbFviFpXt"
      },
      "source": [
        "df = pd.read_csv(\"summer.csv\")"
      ],
      "execution_count": 25,
      "outputs": []
    },
    {
      "cell_type": "code",
      "metadata": {
        "colab": {
          "base_uri": "https://localhost:8080/"
        },
        "id": "lgT2fCTJG5Ju",
        "outputId": "7d8b4ed2-3d4a-481d-ff11-41cc63431ec4"
      },
      "source": [
        "a+b+c == len(df)"
      ],
      "execution_count": 26,
      "outputs": [
        {
          "output_type": "execute_result",
          "data": {
            "text/plain": [
              "True"
            ]
          },
          "metadata": {},
          "execution_count": 26
        }
      ]
    },
    {
      "cell_type": "code",
      "metadata": {
        "colab": {
          "base_uri": "https://localhost:8080/"
        },
        "id": "tNnaJAS4W0ei",
        "outputId": "2199a589-fc1c-4f42-b06d-ddb532b29955"
      },
      "source": [
        "res=[]\n",
        "for i in lf['Sport'].unique():\n",
        "  res.append([i,len(lf[lf['Sport']==i])])\n",
        "res"
      ],
      "execution_count": 45,
      "outputs": [
        {
          "output_type": "execute_result",
          "data": {
            "text/plain": [
              "[['Aquatics', 4170],\n",
              " ['Athletics', 3638],\n",
              " ['Cycling', 1105],\n",
              " ['Fencing', 1613],\n",
              " ['Gymnastics', 2307],\n",
              " ['Shooting', 1150],\n",
              " ['Tennis', 296],\n",
              " ['Weightlifting', 593],\n",
              " ['Wrestling', 1212],\n",
              " ['Archery', 329],\n",
              " ['Basque Pelota', 4],\n",
              " ['Cricket', 24],\n",
              " ['Croquet', 8],\n",
              " ['Equestrian', 939],\n",
              " ['Football', 1497],\n",
              " ['Golf', 30],\n",
              " ['Polo', 66],\n",
              " ['Rowing', 2667],\n",
              " ['Rugby', 192],\n",
              " ['Sailing', 1109],\n",
              " ['Tug of War', 94],\n",
              " ['Boxing', 894],\n",
              " ['Lacrosse', 59],\n",
              " ['Roque', 3],\n",
              " ['Hockey', 1422],\n",
              " ['Jeu de paume', 3],\n",
              " ['Rackets', 10],\n",
              " ['Skating', 27],\n",
              " ['Water Motorsports', 5],\n",
              " ['Modern Pentathlon', 180],\n",
              " ['Ice Hockey', 27],\n",
              " ['Basketball', 1012],\n",
              " ['Canoe / Kayak', 1002],\n",
              " ['Handball', 973],\n",
              " ['Judo', 491],\n",
              " ['Volleyball', 994],\n",
              " ['Table Tennis', 144],\n",
              " ['Badminton', 144],\n",
              " ['Baseball', 335],\n",
              " ['Softball', 180],\n",
              " ['Taekwondo', 112],\n",
              " ['Triathlon', 24],\n",
              " ['Canoe', 81]]"
            ]
          },
          "metadata": {},
          "execution_count": 45
        }
      ]
    },
    {
      "cell_type": "code",
      "metadata": {
        "id": "fEK5GX93IUUY"
      },
      "source": [
        "lst=lf.values.tolist()\n",
        "lst1=[]\n",
        "for i in lst:\n",
        "  lst1.append(i[0])\n",
        "lst2 = list(set(lst1))\n",
        "\n",
        "count=[]\n",
        "for i in lst2:\n",
        "  count.append([i,lst1.count(i)])\n",
        "\n",
        "count = pd.DataFrame(count,columns = ['Sport','No of Medals'])"
      ],
      "execution_count": 35,
      "outputs": []
    },
    {
      "cell_type": "code",
      "metadata": {
        "colab": {
          "base_uri": "https://localhost:8080/",
          "height": 400
        },
        "id": "7IdFQolTIWvA",
        "outputId": "5f3bcd07-9726-4693-e82c-3ee749e3bd5c"
      },
      "source": [
        "count.sort_values(by = 'No of Medals', ascending=False).head().plot(x='Sport',y='No of Medals', kind = 'bar' , figsize = (10,5))"
      ],
      "execution_count": 41,
      "outputs": [
        {
          "output_type": "execute_result",
          "data": {
            "text/plain": [
              "<matplotlib.axes._subplots.AxesSubplot at 0x7fb050e42f90>"
            ]
          },
          "metadata": {},
          "execution_count": 41
        },
        {
          "output_type": "display_data",
          "data": {
            "image/png": "[encoded data removed]",
            "text/plain": [
              "<Figure size 720x360 with 1 Axes>"
            ]
          },
          "metadata": {
            "needs_background": "light"
          }
        }
      ]
    },
    {
      "cell_type": "markdown",
      "metadata": {
        "id": "EzLP8UTTMndw"
      },
      "source": [
        "**4. Which player has won most number of medals? (Top 5)**"
      ]
    },
    {
      "cell_type": "code",
      "metadata": {
        "id": "LDvH10McL9Lf"
      },
      "source": [
        "lst = df['Athlete'].values.tolist()\n",
        "lst1=list(set(lst))\n",
        "\n",
        "cnt = []\n",
        "\n",
        "for i in lst1:\n",
        "  cnt.append([i,lst.count(i)])\n",
        "\n",
        "cnt = pd.DataFrame(cnt,columns = ['Athlete','No of Medals'])"
      ],
      "execution_count": 48,
      "outputs": []
    },
    {
      "cell_type": "code",
      "metadata": {
        "colab": {
          "base_uri": "https://localhost:8080/",
          "height": 459
        },
        "id": "RZO3KRKpMzj2",
        "outputId": "9064614a-a6de-4fc1-8ee9-6c2343632743"
      },
      "source": [
        "cnt.sort_values(by = 'No of Medals', ascending = False).head().plot(x = 'Athlete', y = 'No of Medals', kind = 'bar', figsize = (10,5))"
      ],
      "execution_count": 49,
      "outputs": [
        {
          "output_type": "execute_result",
          "data": {
            "text/plain": [
              "<matplotlib.axes._subplots.AxesSubplot at 0x7fb050e3bcd0>"
            ]
          },
          "metadata": {},
          "execution_count": 49
        },
        {
          "output_type": "display_data",
          "data": {
            "image/png": "[encoded data removed]",
            "text/plain": [
              "<Figure size 720x360 with 1 Axes>"
            ]
          },
          "metadata": {
            "needs_background": "light"
          }
        }
      ]
    },
    {
      "cell_type": "markdown",
      "metadata": {
        "id": "cb2M69zLPG2g"
      },
      "source": [
        "**5. Which player has won most number Gold Medals of medals? (Top 5)**"
      ]
    },
    {
      "cell_type": "code",
      "metadata": {
        "id": "8A-wkrGDNhlN"
      },
      "source": [
        "plr_gold_medals = df[df['Medal'] == 'Gold']\n",
        "p_gold_medals=[]\n",
        "for i in plr_gold_medals['Athlete'].unique():\n",
        "  p_gold_medals.append([i,len(df[df['Athlete']  == i])])\n",
        "\n",
        "\n",
        "p_gold_medals = pd.DataFrame(p_gold_medals,columns = ['Player','No of Gold Medals'])"
      ],
      "execution_count": 50,
      "outputs": []
    },
    {
      "cell_type": "code",
      "metadata": {
        "colab": {
          "base_uri": "https://localhost:8080/",
          "height": 459
        },
        "id": "9w8gCR6WPO2b",
        "outputId": "6d8679be-1d01-41bd-9d4d-8db90f4075a2"
      },
      "source": [
        "p_gold_medals.sort_values(by = 'No of Gold Medals', ascending=False).head().plot(x='Player' , y='No of Gold Medals', kind = 'bar', figsize = (10,5))"
      ],
      "execution_count": 51,
      "outputs": [
        {
          "output_type": "execute_result",
          "data": {
            "text/plain": [
              "<matplotlib.axes._subplots.AxesSubplot at 0x7fb050e67450>"
            ]
          },
          "metadata": {},
          "execution_count": 51
        },
        {
          "output_type": "display_data",
          "data": {
            "image/png": "[encoded data removed]",
            "text/plain": [
              "<Figure size 720x360 with 1 Axes>"
            ]
          },
          "metadata": {
            "needs_background": "light"
          }
        }
      ]
    },
    {
      "cell_type": "markdown",
      "metadata": {
        "id": "-kQr1didRROP"
      },
      "source": [
        "**6. In which year India won first Gold Medal in Summer Olympics?**"
      ]
    },
    {
      "cell_type": "code",
      "metadata": {
        "id": "aPODTBa6QI_J"
      },
      "source": [
        "ind = df[df['Country'] == 'IND']\n",
        "ind = ind[ind['Medal'] == 'Gold']\n",
        "ind = ind['Year']\n",
        "ind_gold_yrs = ind.values.tolist()\n",
        "ind_gold_yrs = list(set(ind_gold_yrs))\n",
        "ind_gold_yrs.sort()"
      ],
      "execution_count": 52,
      "outputs": []
    },
    {
      "cell_type": "code",
      "metadata": {
        "colab": {
          "base_uri": "https://localhost:8080/"
        },
        "id": "TsCpn0o6RUPz",
        "outputId": "66d95c95-3ef4-467b-f06b-3561e79b0f12"
      },
      "source": [
        "print('India won the first gold medal in the year -',ind_gold_yrs[0])"
      ],
      "execution_count": 53,
      "outputs": [
        {
          "output_type": "stream",
          "name": "stdout",
          "text": [
            "India won the first gold medal in the year - 1928\n"
          ]
        }
      ]
    },
    {
      "cell_type": "markdown",
      "metadata": {
        "id": "447LqniGTvqz"
      },
      "source": [
        "**7. Which event is most popular in terms on number of players? (Top 5)**"
      ]
    },
    {
      "cell_type": "code",
      "metadata": {
        "id": "QdBl6e0NTyNi"
      },
      "source": [
        "lf = df\n",
        "del lf['Year']\n",
        "del lf['City']\n",
        "del lf['Discipline']\n",
        "del lf['Sport']\n",
        "del lf['Country']\n",
        "del lf['Gender']\n",
        "del lf['Medal']"
      ],
      "execution_count": 54,
      "outputs": []
    },
    {
      "cell_type": "code",
      "metadata": {
        "id": "x1ZmdSNFUY9L"
      },
      "source": [
        "l = list(df['Event'].unique())\n",
        "l1 = df.values.tolist()\n",
        "l = list(set(l))\n",
        "l2=[]\n",
        "for i in l1:\n",
        "  l2.append(i[1])\n",
        "\n",
        "pp_event=[]\n",
        "for i in l:\n",
        "  pp_event.append([i,l2.count(i)])\n",
        "\n",
        "pp_event = pd.DataFrame(pp_event,columns = ['Event','No of Players'])"
      ],
      "execution_count": 55,
      "outputs": []
    },
    {
      "cell_type": "code",
      "metadata": {
        "colab": {
          "base_uri": "https://localhost:8080/",
          "height": 432
        },
        "id": "x9V8C_CLWx1u",
        "outputId": "1c03c155-4f2a-404d-a887-b7117503af8d"
      },
      "source": [
        "pp_event.sort_values(by = 'No of Players', ascending = False).head().plot(x = 'Event' , y='No of Players', kind ='bar' , figsize = (10,5))"
      ],
      "execution_count": 56,
      "outputs": [
        {
          "output_type": "execute_result",
          "data": {
            "text/plain": [
              "<matplotlib.axes._subplots.AxesSubplot at 0x7fb051294210>"
            ]
          },
          "metadata": {},
          "execution_count": 56
        },
        {
          "output_type": "display_data",
          "data": {
            "image/png": "[encoded data removed]",
            "text/plain": [
              "<Figure size 720x360 with 1 Axes>"
            ]
          },
          "metadata": {
            "needs_background": "light"
          }
        }
      ]
    },
    {
      "cell_type": "markdown",
      "metadata": {
        "id": "47zLc7vuYPk6"
      },
      "source": [
        "**8. Which sport is having most female Gold Medalists? (Top 5)**"
      ]
    },
    {
      "cell_type": "code",
      "metadata": {
        "id": "8unp0dPiWzjS"
      },
      "source": [
        "df = pd.read_csv(\"summer.csv\")"
      ],
      "execution_count": 57,
      "outputs": []
    },
    {
      "cell_type": "code",
      "metadata": {
        "id": "98PssMA2YS7i"
      },
      "source": [
        "df = df[df['Gender'] == 'Women'][df['Medal'] == 'Gold']['Sport']\n",
        "\n",
        "\n",
        "fgm = df.values.tolist()\n",
        "fgm\n",
        "fgm1 = list(set(fgm))\n",
        "\n",
        "fgm_cnt = []\n",
        "for i in fgm1:\n",
        "  fgm_cnt.append([i,fgm.count(i)])\n",
        "\n",
        "fgm_cnt = pd.DataFrame(fgm_cnt, columns =['Sport', 'No of Female Gold Medalists'])"
      ],
      "execution_count": 59,
      "outputs": []
    },
    {
      "cell_type": "code",
      "metadata": {
        "colab": {
          "base_uri": "https://localhost:8080/",
          "height": 400
        },
        "id": "Tzsfa0lAZGTs",
        "outputId": "af6a0c97-bf34-483b-b756-7654e81e675a"
      },
      "source": [
        "fgm_cnt.sort_values(by = 'No of Female Gold Medalists', ascending = False).head().plot(x='Sport', y='No of Female Gold Medalists', kind = 'bar', figsize = (10,5))"
      ],
      "execution_count": 60,
      "outputs": [
        {
          "output_type": "execute_result",
          "data": {
            "text/plain": [
              "<matplotlib.axes._subplots.AxesSubplot at 0x7fb050af1950>"
            ]
          },
          "metadata": {},
          "execution_count": 60
        },
        {
          "output_type": "display_data",
          "data": {
            "image/png": "[encoded data removed]",
            "text/plain": [
              "<Figure size 720x360 with 1 Axes>"
            ]
          },
          "metadata": {
            "needs_background": "light"
          }
        }
      ]
    },
    {
      "cell_type": "code",
      "metadata": {
        "id": "jbR5NXNaZeqE"
      },
      "source": [
        ""
      ],
      "execution_count": null,
      "outputs": []
    }
  ]
}